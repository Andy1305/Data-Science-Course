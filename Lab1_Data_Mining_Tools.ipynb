{
  "nbformat": 4,
  "nbformat_minor": 0,
  "metadata": {
    "colab": {
      "provenance": [],
      "private_outputs": true,
      "collapsed_sections": [],
      "toc_visible": true
    },
    "kernelspec": {
      "name": "python3",
      "display_name": "Python 3"
    },
    "accelerator": "GPU"
  },
  "cells": [
    {
      "cell_type": "markdown",
      "metadata": {
        "id": "15lQK-R1_k-1"
      },
      "source": [
        "#Welcome"
      ]
    },
    {
      "cell_type": "code",
      "metadata": {
        "id": "StyUgP5mf2RL"
      },
      "source": [
        "%%html\n",
        "<marquee style='width: 30%; color: green;'><b>Welcome to DMIF lab!</b></marquee>"
      ],
      "execution_count": null,
      "outputs": []
    },
    {
      "cell_type": "markdown",
      "metadata": {
        "id": "ECgdoB6-E9mU"
      },
      "source": [
        "##Tools"
      ]
    },
    {
      "cell_type": "markdown",
      "metadata": {
        "id": "dt4zB16eGh0D"
      },
      "source": [
        "# New Section"
      ]
    },
    {
      "cell_type": "code",
      "metadata": {
        "id": "P1Cdm5ce_oi3"
      },
      "source": [
        "import numpy as np\n",
        "import scipy as sp\n",
        "import sklearn as sk\n",
        "import pandas as pd\n",
        "import platform as plat\n",
        "\n",
        "\n",
        "#how to check tools build versions\n",
        "print('Python Version: ', plat.python_version())\n",
        "print('NumPy Version: ',  np.__version__)\n",
        "print('SciPy Version: ',  np.__version__)\n",
        "print('Scikit-Learn Version: ',  sp.__version__)\n",
        "print('Pandas Version: ', pd.__version__) "
      ],
      "execution_count": null,
      "outputs": []
    },
    {
      "cell_type": "markdown",
      "metadata": {
        "id": "znwQoxtLcufW"
      },
      "source": [
        "#Google Colab"
      ]
    },
    {
      "cell_type": "code",
      "metadata": {
        "id": "ykqXNP2kyq7t"
      },
      "source": [
        "# this is an example of mounting your drive\n",
        "# no need for today's lab\n",
        "# do not try this with every script\n",
        "# there are malicious scripts out there in the wild\n",
        "\n",
        "#           /\\\n",
        "#   __     /^|\n",
        "#  / /\\###//||\n",
        "#  |//  #  \\//\n",
        "#   :(o) (o);\n",
        "#    \\     /##\n",
        "#     || ||  ##\n",
        "#     /   \\   `--...____\n",
        "#    ( @_@ )\n",
        "#     `---'    /\n",
        "#      |      |\n",
        "#       \\      \\   |ap\n",
        "\n",
        "\n",
        "\n",
        "# from google.colab import drive\n",
        "# drive.mount('/content/gdrive')\n",
        "\n",
        "# %cd /content/gdrive\n",
        "# %cd 'My Drive'\n",
        "# !ls"
      ],
      "execution_count": null,
      "outputs": []
    },
    {
      "cell_type": "markdown",
      "metadata": {
        "id": "uY8aNN7zFByn"
      },
      "source": [
        "##Shell Commands"
      ]
    },
    {
      "cell_type": "markdown",
      "metadata": {
        "id": "1Dbnw5hLM1ds"
      },
      "source": [
        "###Common Linux Commands"
      ]
    },
    {
      "cell_type": "markdown",
      "metadata": {
        "id": "P5H28CUISGBr"
      },
      "source": [
        "* [ls](http://man7.org/linux/man-pages/man1/ls.1.html) - list directory contents\n",
        "* [cd](http://man7.org/linux/man-pages/man1/cd.1p.html) - change the working directory\n",
        "* [mv](http://man7.org/linux/man-pages/man1/mv.1.html) - move (rename) files\n",
        "* [man](http://man7.org/linux/man-pages/man1/man.1.html) - an interface to the on-line reference manuals\n",
        "* [mkdir](http://man7.org/linux/man-pages/man1/mkdir.1.html) - make directories\n",
        "* [rmdir](http://man7.org/linux/man-pages/man1/rmdir.1.html) - remove empty directories\n",
        "* [touch](http://man7.org/linux/man-pages/man1/touch.1.html) - change file timestamps\n",
        "* [rm](http://man7.org/linux/man-pages/man1/rm.1.html) - remove files or directories\n",
        "* [pwd](http://man7.org/linux/man-pages/man1/pwd.1.html) - print name of current/working directory\n"
      ]
    },
    {
      "cell_type": "markdown",
      "metadata": {
        "id": "zLkf95nWQoJR"
      },
      "source": [
        "---\n",
        "\n",
        "Commands prefixed with **!** are run in a new subshell. Any modification visible in the new shell will not be visible in the current shell. To make the modification visible for the current shell use **%**.\n",
        "\n",
        "\n",
        "\n",
        "\n",
        "\n",
        "\n"
      ]
    },
    {
      "cell_type": "code",
      "metadata": {
        "id": "t5_4OOVKNIIQ"
      },
      "source": [
        "!pwd ; ls \n",
        "!echo \"---------------------\"\n",
        "!cd sample_data\n",
        "!echo \"---------------------\"\n",
        "!pwd ; ls"
      ],
      "execution_count": null,
      "outputs": []
    },
    {
      "cell_type": "code",
      "metadata": {
        "id": "aJOHhHAsU55r"
      },
      "source": [
        "!mkdir yoda; ls; rm -r yoda; ls"
      ],
      "execution_count": null,
      "outputs": []
    },
    {
      "cell_type": "markdown",
      "metadata": {
        "id": "Psm-FgpEIUnT"
      },
      "source": [
        "###System Info\n",
        "\n",
        "In this section we will describe some Linux specific commands which will guide through Google Colab's system specifications. \n",
        "In order to use **nvidia-smi** command line utility you have to enable GPU backend. Go to Edit → Notebook Settings and in the dropdown for **Hardware Accelerator** check **GPU**."
      ]
    },
    {
      "cell_type": "code",
      "metadata": {
        "id": "nZzgVqTRIq4g"
      },
      "source": [
        "#GPU count and name\n",
        "!nvidia-smi -L"
      ],
      "execution_count": null,
      "outputs": []
    },
    {
      "cell_type": "code",
      "metadata": {
        "id": "d0sBbymlMdAe"
      },
      "source": [
        "#display info about GPU activity\n",
        "!nvidia-smi"
      ],
      "execution_count": null,
      "outputs": []
    },
    {
      "cell_type": "code",
      "metadata": {
        "id": "sbQJDX1eFZFf"
      },
      "source": [
        "#get info about file system disk space usage (--human-readable)\n",
        "!df -h"
      ],
      "execution_count": null,
      "outputs": []
    },
    {
      "cell_type": "code",
      "metadata": {
        "id": "KNAa0na0FHSB"
      },
      "source": [
        "#display info about the processor\n",
        "!cat /proc/cpuinfo\n"
      ],
      "execution_count": null,
      "outputs": []
    },
    {
      "cell_type": "code",
      "metadata": {
        "id": "zmfNVtMlFVHw"
      },
      "source": [
        "#get info about the amount of free and used memory (both physical and swap) \n",
        "!cat /proc/meminfo"
      ],
      "execution_count": null,
      "outputs": []
    },
    {
      "cell_type": "code",
      "metadata": {
        "id": "3cnDyaSlG-nQ"
      },
      "source": [
        "#get info about the linux distribution\n",
        "!cat /etc/os-release"
      ],
      "execution_count": null,
      "outputs": []
    },
    {
      "cell_type": "code",
      "metadata": {
        "id": "xuM4G-gDHM3n"
      },
      "source": [
        "#print kernel release\n",
        "!uname -r"
      ],
      "execution_count": null,
      "outputs": []
    },
    {
      "cell_type": "markdown",
      "metadata": {
        "id": "jhlQi3kEWuXC"
      },
      "source": [
        "#Python\n",
        "![](https://www.python.org/static/img/python-logo@2x.png)\n",
        "\n",
        "Python is an interpreted high level language which offers easy-syntax and it has a wide supports for modules and packages.\n",
        "Programming paradigms supported:\n",
        "*   imperative\n",
        "*   procedural\n",
        "*   object-oriented\n",
        "*   functional\n"
      ]
    },
    {
      "cell_type": "markdown",
      "metadata": {
        "id": "Ws-g8kTFWoI9"
      },
      "source": [
        "## Code examples\n",
        "\n",
        "P1.  Write a program that prints the numbers from 1 to 30. \n",
        "\n",
        "\n",
        "*   multiples of 3: print Fizz\n",
        "*   multiples of 5: print Buzz\n",
        "*   multiples of 15: print FizzBuzz\n",
        "*   other numbers: print the number\n",
        "\n",
        "\n"
      ]
    },
    {
      "cell_type": "code",
      "metadata": {
        "id": "ZOC1eYwkW3RL"
      },
      "source": [
        "#statements: for, if/elif\n",
        "for no in range(1,31):\n",
        "  if no % 15 == 0:\n",
        "    print('FizzBuzz')\n",
        "  elif no%3 == 0:\n",
        "    print('Fizz')\n",
        "  elif no%5 == 0:\n",
        "    print('Buzz')\n",
        "  else:\n",
        "    print(no)\n",
        "    "
      ],
      "execution_count": null,
      "outputs": []
    },
    {
      "cell_type": "markdown",
      "metadata": {
        "id": "uo8jLdroZE7x"
      },
      "source": [
        "\n",
        "P2. Write a function that computes the Fibonacci Sequence.\n",
        "\n"
      ]
    },
    {
      "cell_type": "code",
      "metadata": {
        "id": "xieyy2E5ZV_H"
      },
      "source": [
        "def fibonacci(n):\n",
        "  if n < 2:\n",
        "    return n\n",
        "  else:\n",
        "    return fibonacci(n-1)+fibonacci(n-2)\n",
        "\n",
        "assert fibonacci(7)==13\n",
        "assert fibonacci(5)==5\n",
        "assert fibonacci(0)==0\n",
        "#assert factorial(1)==99  --> AssertionError"
      ],
      "execution_count": null,
      "outputs": []
    },
    {
      "cell_type": "markdown",
      "metadata": {
        "id": "rDRMT5DIazGv"
      },
      "source": [
        "P3. Rewrite **P2** such that it uses memoization technique to speed up the computation."
      ]
    },
    {
      "cell_type": "code",
      "metadata": {
        "id": "H38i0krHbxW-"
      },
      "source": [
        "def fibonacci_mem(n):\n",
        "  computed_values = {0:0, 1:1}\n",
        "  for i in range(2, n+1):\n",
        "    computed_values[i] = computed_values[i-2] + computed_values[i-1]\n",
        "  return computed_values[n]\n",
        "\n",
        "assert fibonacci_mem(0)==0\n",
        "assert fibonacci_mem(9)==34"
      ],
      "execution_count": null,
      "outputs": []
    },
    {
      "cell_type": "markdown",
      "metadata": {
        "id": "BA3oebA-eRM6"
      },
      "source": [
        "P4. Write a class that will represent a complex number and overload the following functions:\n",
        "\n",
        "\n",
        "*   add\n",
        "*   sub\n",
        "*   mul\n",
        "*   div\n",
        "*   str\n",
        "\n",
        "For more methods to be overloaded check [this page](https://docs.python.org/3.3/reference/datamodel.html).\n",
        "\n"
      ]
    },
    {
      "cell_type": "code",
      "metadata": {
        "id": "QWmMm8Y7epy8"
      },
      "source": [
        "class Complex:\n",
        "  def __init__(this, a, b):\n",
        "    this.a = a\n",
        "    this.b = b\n",
        "\n",
        "  def __add__(self, other):\n",
        "    return Complex(self.a+other.a, self.b+other.b)\n",
        "\n",
        "  def __sub__(self, other):\n",
        "    return Complex(self.a-other.a, self.b-other.b)\n",
        "\n",
        "  def __mul__(self, other):\n",
        "    return Complex(self.a*other.a-self.b*other.b, \n",
        "                   self.a*other.b+other.a*self.b)\n",
        "\n",
        "  def __truediv__(self, other):\n",
        "    aux = other.a**2+other.b**2\n",
        "    tmpa = self.a*other.a+self.b*other.b\n",
        "    tmpb = -self.a*other.b+other.a*self.b\n",
        "    return Complex(tmpa / aux, \n",
        "                   tmpb / aux)\n",
        "\n",
        "  def __str__(self):\n",
        "    return \"{:.2f}{:}{:.2f}i\".format(self.a, \n",
        "                                     \"+\" if self.b>=0 else \"-\", \n",
        "                                     abs(self.b))\n",
        "\n",
        "c = Complex(3,2)/Complex(4,-5)\n",
        "print(c)"
      ],
      "execution_count": null,
      "outputs": []
    },
    {
      "cell_type": "markdown",
      "metadata": {
        "id": "2zb66xz-vVSP"
      },
      "source": [
        "P5. Check the following string functions."
      ]
    },
    {
      "cell_type": "code",
      "metadata": {
        "id": "xDevUnGovcJu"
      },
      "source": [
        "from inspect import getframeinfo, stack\n",
        "\n",
        "#just a pretty print\n",
        "def go(x): \n",
        "  caller = getframeinfo(stack()[1][0])\n",
        "  print('Line', caller.lineno, ': \\t', x)\n",
        "\n",
        "s = \"Hello, World!\"\n",
        "\n",
        "#example of slicing strings\n",
        "go(s[7:])\n",
        "go(s[7:12])\n",
        "go(s[-6:-1])\n",
        "go(s[-1])\n",
        "go(s[0:len(s):2])\n",
        "go(s[::2])\n",
        "\n",
        "#example of formatting\n",
        "go(s.lower())\n",
        "go(s.upper())\n",
        "\n",
        "#concat\n",
        "s = \"===\" + s + \"===\"\n",
        "go(s)\n",
        "\n",
        "#reversing the string\n",
        "go(s[::-1])\n",
        "\n",
        "#only one delimiter\n",
        "go(s.split(\",\"))\n",
        "\n",
        "#example of replacing\n",
        "go(s.replace(\"=\",\"*\"))\n",
        "\n",
        "\n"
      ],
      "execution_count": null,
      "outputs": []
    },
    {
      "cell_type": "markdown",
      "metadata": {
        "id": "BlWJVhrE2ABs"
      },
      "source": [
        "If you asked yourself why a **reverse** method for strings is not implemented check this thread [here](https://stackoverflow.com/questions/931092/reverse-a-string-in-python)."
      ]
    },
    {
      "cell_type": "markdown",
      "metadata": {
        "id": "r_BR_xEzzmw_"
      },
      "source": [
        "P6. Python has a built-in module for regular expressions called **re** used to find *searching patters*. The following table displays a part of RegEx patterns. For the rest you can check the documentation [here](https://docs.python.org/3/library/re.html).\n",
        "\n",
        "\n",
        "Pattern | Description\n",
        "--------| --------\n",
        "^       | Matches beginning of line\n",
        "$       | Matches end of line.\n",
        ".       | Matches any single character except \\n\n",
        "[...]   | Matches any single character in brackets\n",
        "[^...]  | Matches any single character not in brackets\n",
        "x*      | Matches 0 or more occurrences of expr x\n",
        "x+      | Matches 1 or more occurrences of expr x\n",
        "x?      | Matches 0 or 1 occurrence of expr x\n",
        "x{n}    | Matches exactly n number of occurences of expr x\n",
        "x{n,}   | Matches n or more occurences of expr x\n",
        "x{n,m}  | Matches  at least n and at most m of occurences of expr x\n",
        "x\\|y    | Matches either expr x or y\n",
        "(x)     | Groups regular expressions and remembers matched text.\n",
        "\\\\s     | Matches whitespace. Equivalent to [\\t\\n\\r\\f]\n",
        "\\\\S     | Matches nonwhitespace\n",
        "\\\\d     | Matches digits. Equivalent to [0-9]\n",
        "\\\\D     | Matches nondigits\n"
      ]
    },
    {
      "cell_type": "code",
      "metadata": {
        "id": "zGN0AxIszsaa"
      },
      "source": [
        "import re\n",
        "from inspect import getframeinfo, stack\n",
        "\n",
        "#just a pretty print\n",
        "def go(x): \n",
        "  caller = getframeinfo(stack()[1][0])\n",
        "  print('Line', caller.lineno, ': \\t', x)\n",
        "  \n",
        "  \n",
        "\n",
        "s = 'The quick brown\\nfox jumps over the lazy dog.'\n",
        "go(re.split(' |; |, |\\*|\\n|.',s))\n",
        "go(re.split(' |; |, |\\*|\\n|\\.',s))\n",
        "s = 'The quick brown123fox jumps^%over the lazy dog.'\n",
        "go(''.join(re.findall('[A-za-z]*', s)))"
      ],
      "execution_count": null,
      "outputs": []
    },
    {
      "cell_type": "markdown",
      "metadata": {
        "id": "NTzdojC2w6N7"
      },
      "source": []
    },
    {
      "cell_type": "markdown",
      "metadata": {
        "id": "o-XtdZtK1Sd9"
      },
      "source": [
        "# NumPy\n",
        "\n",
        "![](https://numpy.org/_static/numpy_logo.png)\n",
        "\n",
        "NumPy is the fundamental package for scientific computing in Python. It is a Python library that provides a multidimensional array object, various derived objects (such as masked arrays and matrices), and an assortment of routines for fast operations on arrays, including mathematical, logical, shape manipulation, sorting, selecting, I/O, discrete Fourier transforms, basic linear algebra, basic statistical operations, random simulation and much more.\n",
        "\n",
        "Here are some characteristics:\n",
        "\n",
        "\n",
        "*   NumPy arrays have a fixed size at creation, unlike Python lists (which can grow dynamically). Changing the size of an ndarray will create a new array and delete the original.\n",
        "*   The elements in a NumPy array are all required to be of the same data type, and thus will be the same size in memory. The exception: one can have arrays of (Python, including NumPy) objects, thereby allowing for arrays of different sized elements.\n",
        "*   NumPy arrays facilitate advanced mathematical and other types of operations on large numbers of data. Typically, such operations are executed more efficiently and with less code than is possible using Python’s built-in sequences.\n",
        "\n",
        "\n",
        "\n",
        "\n",
        "\n"
      ]
    },
    {
      "cell_type": "markdown",
      "metadata": {
        "id": "V8p19IAW376E"
      },
      "source": [
        "## Array Manipulation\n",
        "\n",
        "N1. Create a numpy array from nested Python list and print certain values."
      ]
    },
    {
      "cell_type": "code",
      "metadata": {
        "id": "3ouwfCx-1ZNQ"
      },
      "source": [
        "import numpy as np\n",
        "from inspect import getframeinfo, stack\n",
        "\n",
        "#just a pretty print\n",
        "def go(x): \n",
        "  caller = getframeinfo(stack()[1][0])\n",
        "  print('Line', caller.lineno, ': \\t', x)\n",
        "\n",
        "#1.define an array from python list\n",
        "a = np.array([1,2,3,4,5])\n",
        "go(a)\n",
        "\n",
        "#2.print values on odd positions using indexing\n",
        "go(a[[0,2,4]])\n",
        "\n",
        "#3.print values on odd positions using comprehension list\n",
        "go(a[[pos for pos in range(len(a)) if not pos&1]])\n",
        "\n",
        "#4.print half of the array\n",
        "go(a[len(a)>>1:])\n",
        "\n",
        "\n",
        "    "
      ],
      "execution_count": null,
      "outputs": []
    },
    {
      "cell_type": "markdown",
      "metadata": {
        "id": "ccOZXNhL_1-R"
      },
      "source": [
        "N2. Follow the next examples with other array creation routines.\n",
        "\n"
      ]
    },
    {
      "cell_type": "code",
      "metadata": {
        "id": "4Ne_a0waAg1a"
      },
      "source": [
        "import numpy as np\n",
        "from inspect import getframeinfo, stack\n",
        "\n",
        "#just a pretty print\n",
        "def go(x): \n",
        "  caller = getframeinfo(stack()[1][0])\n",
        "  print('Line', \n",
        "        caller.lineno, ': \\t', \n",
        "        (np.array2string(x)).replace('\\n','\\n\\t\\t'), '\\n')\n",
        "  \n",
        "go(np.zeros((2,2)))\n",
        "go(np.ones((2,2)))\n",
        "go(np.full((3,2), 7))\n",
        "go(np.eye(3))\n",
        "go(np.random.random((5,5)))"
      ],
      "execution_count": null,
      "outputs": []
    },
    {
      "cell_type": "markdown",
      "metadata": {
        "id": "Dqu6T-vVADMh"
      },
      "source": [
        "N3. In the next examples, you'll see numpy math operations."
      ]
    },
    {
      "cell_type": "code",
      "metadata": {
        "id": "SxG0XxzcAop8"
      },
      "source": [
        "from inspect import getframeinfo, stack\n",
        "import numpy as np\n",
        "\n",
        "#just a pretty print\n",
        "def go(x): \n",
        "  caller = getframeinfo(stack()[1][0])\n",
        "  print('Line', \n",
        "        caller.lineno, ': \\t', \n",
        "        (np.array2string(x)).replace('\\n','\\n\\t\\t'), '\\n')\n",
        "\n",
        "x = np.array([[1,2],[3,4]], dtype=np.float64)\n",
        "y = np.array([[5,6],[7,8]], dtype=np.float64)\n",
        "\n",
        "go(x+y)\n",
        "go(np.add(x,y))\n",
        "go(np.sum(x))\n",
        "go(np.sqrt(x))\n",
        "\n",
        "#matrix X matrix\n",
        "go(np.dot(x,x))\n",
        "\n",
        "#matrix X scalar\n",
        "go(np.dot(x,10))\n",
        "\n",
        "go(np.arange(0,10,2))"
      ],
      "execution_count": null,
      "outputs": []
    },
    {
      "cell_type": "markdown",
      "metadata": {
        "id": "pcqKRsqiv7Pz"
      },
      "source": [
        "#scikit-learn\n",
        "\n",
        "![](https://scikit-learn.org/stable/_static/scikit-learn-logo-small.png)\n",
        "\n",
        "**scikit-learn** is a robust library that provides access to a collection of machine learning and data mining algorithms. This framework exposes a series of algorithms which can be grouped in the\n",
        "following categories:\n",
        "\n",
        "\n",
        "*   Preprocessing - provides certain utility functions that can be applied to raw data in order to be more representative\n",
        "*   Model Selection - is the task of selecting a statistical model that can be applied on data such that results can be infered or predicted\n",
        "*   Dimensionality reduction - is the task of reducing the number of features implied in classification. Here we have **feature selection** where we take a subset of relevant features from the original ones and we also have **feature extraction** where we derive new features.\n",
        "*   Classification - is the process of identifying the category to which an object belongs.\n",
        "*   Regression - is the process of identifying corellation between variables.\n",
        "*   Clustering - is the process of grouping object in categories in a way that an object is more similar to objects from its cluster than object from other cluster.\n",
        "\n",
        "All supervised estimators in scikit-learn implement the methods **fit** and **predict**.\n",
        "\n",
        "\n",
        "*   **fit(X, y)** - this method receives as input a dataset **X** which contains **n** samples and set of target classes **y** which contains also **n** labels. The target of this method is to find a function **f** that approximates labels **y** given samples **X**\n",
        "*   **predict(X)** - receives unlabeled observations **X** and returns the predicted labels **y**\n",
        "\n",
        "\n",
        "\n",
        "\n",
        "Beside all algorithms for data mining and machine learning, scikit-learn offers also a collection of datasets on which all this algorithms can be applied. Here are certain examples:\n",
        "\n",
        "Function | Dataset\n",
        "---      | ---\n",
        "load_boston([return_X_y])       | Load and return the boston house-prices dataset\n",
        "load_iris([return_X_y])         | Load and return the iris dataset \n",
        "load_diabetes([return_X_y])     | Load and return the diabetes dataset\n",
        "load_digits([return_X_y])       | Load and return the digits dataset \n",
        "load_linnerud([return_X_y])     | Load and return the linnerud dataset\n",
        "load_wine([return_X_y])         | Load and return the wine dataset \n",
        "load_breast_cancer([return_X_y])| Load and return the breast cancer wisconsin dataset \n",
        "\n",
        "Below we have an example of loading a dataset and alalyzing its attributes.\n",
        "\n"
      ]
    },
    {
      "cell_type": "code",
      "metadata": {
        "id": "ZjUq_n2PT04Z"
      },
      "source": [
        "from sklearn.datasets import load_digits\n",
        "from tabulate import tabulate\n",
        "import matplotlib.pyplot as plt \n",
        "\n",
        "dataset = load_digits()\n",
        "\n",
        "\n",
        "print(dataset.keys(), '\\n')\n",
        "\n",
        "#example of dataset\n",
        "print(tabulate([[dataset['images'][0].shape,\n",
        "                 dataset['data'][0].shape, \n",
        "                 dataset['target'][0], \n",
        "                 dataset['target_names'][0], \n",
        "                 dataset['DESCR'][0]]], \n",
        "                 headers=['image size', 'data size',\n",
        "                          'target', 'target_names', \n",
        "                          'DESCR']))\n",
        "plt.title('First image')\n",
        "plt.gray() \n",
        "plt.imshow(dataset.images[0]) \n",
        "plt.show() \n",
        "\n"
      ],
      "execution_count": null,
      "outputs": []
    },
    {
      "cell_type": "markdown",
      "metadata": {
        "id": "gq4WZiLCGNMG"
      },
      "source": [
        "#Pandas\n",
        "![](https://pandas.pydata.org/_static/pandas_logo.png)"
      ]
    },
    {
      "cell_type": "markdown",
      "metadata": {
        "id": "pyeD2TOQsam0"
      },
      "source": [
        "Pandas stands for “Python Data Analysis Library” and it is a Python library which provides data manipulation and data analysis tools. \n",
        "\n",
        "The main component of this library is [**DataFrame**](https://pandas.pydata.org/pandas-docs/stable/getting_started/dsintro.html#dataframe) and one may think of it as a 2-dimensional labeled data structure with columns of potentially different types like series, arrays, constants, or list-like objects. Below you can see several methods of creating a DataFrame. \n",
        "\n",
        "\n",
        "\n"
      ]
    },
    {
      "cell_type": "code",
      "metadata": {
        "id": "_nKfH6s_wy-M"
      },
      "source": [
        "#creating a DataFrame from a dict\n",
        "from IPython.display import display, HTML\n",
        "data = {\n",
        "    'House Name': ['Gryffindor', \n",
        "                   'Hufflepuff', \n",
        "                   'Ravenclaw',\n",
        "                   'Slytherin'], \n",
        "    'Head of House': ['Nearly Headless Nick', \n",
        "                      'Pomona Sprout', \n",
        "                      'Filius Flitwick', \n",
        "                      'Severus Snape'],\n",
        "    'Values': ['bravery, daring, nerve, and chivalry',\n",
        "               'hard work, dedication, patience, loyalty, and fair play',\n",
        "               'intelligence, knowledge, and wit',\n",
        "               'ambition, cunning and resourcefulness']\n",
        "}\n",
        "hogwarts_houses = pd.DataFrame(data)\n",
        "display(HTML(hogwarts_houses.to_html()))"
      ],
      "execution_count": null,
      "outputs": []
    },
    {
      "cell_type": "code",
      "metadata": {
        "id": "EmS-YONBgswW"
      },
      "source": [
        "#downloading titanic dataset\n",
        "!wget https://web.stanford.edu/class/archive/cs/cs109/cs109.1166/stuff/titanic.csv\n",
        "!ls"
      ],
      "execution_count": null,
      "outputs": []
    },
    {
      "cell_type": "code",
      "metadata": {
        "id": "KxPl9QZqg4Vl"
      },
      "source": [
        "#creating a dataset from csv\n",
        "from IPython.display import display, HTML\n",
        "import pandas as pd\n",
        "\n",
        "\n",
        "\n",
        "titanic_df = pd.read_csv('titanic.csv')\n",
        "\n",
        "#df.head()\n",
        "display(HTML(titanic_df.head().to_html()))\n",
        "\n",
        "#we know from the movie that women and children were favored\n",
        "#here is an example of how to\n",
        "sex_pivot = titanic_df.pivot_table(index=[\"Sex\"],values=\"Survived\")\n",
        "display(HTML(sex_pivot.to_html()))\n",
        "titanic_df[\"Age\"] = titanic_df[\"Age\"].apply(lambda x: int(x/10))\n",
        "titanic_df[\"Age\"].astype(int)\n",
        "age_pivot =  titanic_df.pivot_table(index=[\"Age\"],values=\"Survived\")\n",
        "display(HTML(age_pivot.to_html()))\n",
        "\n",
        "#that's why we have an 100% for age in [80,90)\n",
        "display(HTML(titanic_df[(titanic_df.Age>=8) & (titanic_df.Age<9)].to_html()))\n"
      ],
      "execution_count": null,
      "outputs": []
    },
    {
      "cell_type": "code",
      "metadata": {
        "id": "f7SIvwHJ0RM5"
      },
      "source": [
        "#download movies json\n",
        "!wget https://raw.githubusercontent.com/hjorturlarsen/IMDB-top-100/master/data/movies.json"
      ],
      "execution_count": null,
      "outputs": []
    },
    {
      "cell_type": "code",
      "metadata": {
        "id": "uyDAYdI7I2V7"
      },
      "source": [
        "import urllib.request\n",
        "if not in_notebook():\n",
        "  urllib.request.urlretrieve(\"https://web.stanford.edu/class/archive/cs/cs109/cs109.1166/stuff/titanic.csv\", \"titanic2.csv\")"
      ],
      "execution_count": null,
      "outputs": []
    },
    {
      "cell_type": "code",
      "metadata": {
        "id": "CwE3e8_r0U8E"
      },
      "source": [
        "#creating a dataset from csv\n",
        "from IPython.display import display, HTML\n",
        "import pandas as pd\n",
        "\n",
        "movies_df = pd.read_json('movies.json')\n",
        "#and Nobel and Golden Raspberry Awards go to...\n",
        "_movies_df = pd.concat([movies_df.head(), movies_df.tail()])\n",
        "\n",
        "display(HTML((_movies_df).to_html()))"
      ],
      "execution_count": null,
      "outputs": []
    },
    {
      "cell_type": "code",
      "metadata": {
        "id": "oQ7fe_oTI3Ek"
      },
      "source": [
        "#get no of entries, column types and memory usage for storing dataset\n",
        "movies_df.info()"
      ],
      "execution_count": null,
      "outputs": []
    },
    {
      "cell_type": "markdown",
      "metadata": {
        "id": "6i4z9LZrGSFe"
      },
      "source": [
        "#Matplotlib\n",
        "\n",
        "![](https://matplotlib.org/_static/logo2.png)"
      ]
    },
    {
      "cell_type": "markdown",
      "metadata": {
        "id": "xWCfOLQjVf21"
      },
      "source": [
        "#Exercises"
      ]
    },
    {
      "cell_type": "markdown",
      "metadata": {
        "id": "xegVIgvDGxeI"
      },
      "source": [
        "M1. Plot the following functions: f(x)=x and f(x)=log(x) and on interval \\[0,100\\)"
      ]
    },
    {
      "cell_type": "code",
      "metadata": {
        "id": "SHL2RCXo_rR1"
      },
      "source": [
        "import matplotlib.pyplot as plt\n",
        "import numpy as np\n",
        "import math\n",
        "\n",
        "# Prepare the data\n",
        "x = np.linspace(start = 1, stop = 100, num = 5)\n",
        "flogx = np.log2(x)\n",
        "# Plot the data\n",
        "plt.figure()\n",
        "plt.plot(x, x, label='linear', color='r')\n",
        "plt.plot(x, flogx, label='logarithm', color='g')\n",
        "plt.xlim(0,100)\n",
        "plt.ylim(0,100)\n",
        "plt.legend()\n",
        "plt.show()\n",
        "\n"
      ],
      "execution_count": null,
      "outputs": []
    },
    {
      "cell_type": "markdown",
      "metadata": {
        "id": "XjEfruKfPwCo"
      },
      "source": [
        "M2. Draw the histogram of flipping a coin for 1000 times. Check what happens if you change the value from 1000 to 10."
      ]
    },
    {
      "cell_type": "code",
      "metadata": {
        "id": "OTYQTdguPwoo"
      },
      "source": [
        "import random\n",
        "data = [random.randint(0,1) for _ in range(1000)]\n",
        "plt.hist(data)\n",
        "plt.xticks([0,1])\n",
        "plt.xlabel('Coin Toss')\n",
        "plt.ylabel('Number of times')\n",
        "plt.show()\n"
      ],
      "execution_count": null,
      "outputs": []
    },
    {
      "cell_type": "markdown",
      "metadata": {
        "id": "jzh7kAgysFjL"
      },
      "source": [
        "##E1. Triangle - 2D Transformations\n",
        "Given a class Triangle which is represented by three 2D points, hence a numpy array of shape (3,2) implement the following transformations:\n",
        "\n",
        "\n",
        "*   translation: (x, y) → (x+a, y+b)\n",
        "*   rotation theta: (x, y) →(x cos(θ)+y sin(θ), -x sin(θ)+y cos(θ))\n",
        "*   scaling:  (x, y) → (ax, by)\n",
        "*   reflection: on y axis → (-x,y) and on x axis → (x,-y)\n",
        "*   shearing: (x, y) → (x+ay, y+bx)\n",
        "\n",
        "Example of commands:\n",
        "*   translate 2 3\n",
        "*   rotate 90\n",
        "*   scale 2 3\n",
        "*   reflect x|y\n",
        "*   shear 2 3\n",
        "\n"
      ]
    },
    {
      "cell_type": "code",
      "metadata": {
        "id": "hYdWOt2osFz8"
      },
      "source": [
        "import matplotlib.pyplot as plt\n",
        "from shapely.geometry.polygon import Polygon\n",
        "from descartes import PolygonPatch\n",
        "import numpy as np\n",
        "from matplotlib import pyplot\n",
        "from random import *\n",
        "\n",
        "fig = plt.figure(figsize=(10,10), dpi=90)\n",
        "\n",
        "class Triangle:\n",
        "  plot_index = 0\n",
        "  \n",
        "  def plot(self, fig, plot_index, command=None):\n",
        "    (title, transf) = self.applyTransformation(command)\n",
        "    if not title or not transf:\n",
        "      return\n",
        "    plot_index = plot_index + 1\n",
        "    subp = fig.add_subplot(plot_index)\n",
        "    subp.set_title(title)\n",
        "    subp.set_xlim(-20,20)\n",
        "    subp.set_ylim(-20,20)\n",
        "    x, y = transf.exterior.xy\n",
        "    subp.fill(x, y,'xkcd:sky blue' )\n",
        "    plt.plot(*transf.exterior.xy)\n",
        "\n",
        "  def __init__(self, points):\n",
        "\n",
        "    if type(points) is not np.ndarray or points.shape != (3,2):\n",
        "      raise ValueError('Input value should be a numpy array of shape (3,2)!!')\n",
        "    else:\n",
        "      self.points = points\n",
        "  \n",
        "  def getOriginal(self):\n",
        "    return Polygon(self.points)\n",
        "  \n",
        "  def applyTransformation(self, command=None):\n",
        "    poly = self.getOriginal()\n",
        "    return_value = \"Original\", poly\n",
        "   \n",
        "    if(command is None):\n",
        "      return return_value\n",
        "    args = command.split()\n",
        "    if args[0] == 'translate':\n",
        "      if len(args)==3:\n",
        "        t = np.array([[int(args[1]),int(args[2])]])\n",
        "        new_points = self.points + t\n",
        "        return_value = \"Translation\", Polygon(new_points)    \n",
        "    elif args[0] == 'scale':\n",
        "        t = np.array([[int(args[1]),int(args[2])]])\n",
        "        new_points = self.points * t\n",
        "        return_value = \"Scale\", Polygon(new_points) \n",
        "    elif args[0] == 'rotate':\n",
        "        #t = np.array([int(args[1])])\n",
        "        #new_points = self.points\n",
        "        #x = new_points[0][0]\n",
        "        #y = new_points[0][1]\n",
        "        #new_points[0][0] = x * np.cos(t[0]) - y * np.sin(t[0])\n",
        "        #new_points[0][1] = x * np.sin(t[0]) + y * np.cos(t[0])\n",
        "        y = np.rot90(self.points)\n",
        "        y = np.transpose(y)\n",
        "        return_value = \"rotate\", Polygon(y)\n",
        "    elif args[0] == 'reflect':\n",
        "      #new_points = np.flipud(self.points)\n",
        "      new_points = self.points\n",
        "      new_points[1][1] = -new_points[1][1]\n",
        "      return_value = \"Reflect\", Polygon(new_points)\n",
        "    elif args[0] == 'shear':\n",
        "      new_points = self.points\n",
        "      t = np.array([[int(args[1]),int(args[2])]])\n",
        "      aux = np.array([(0,0)])\n",
        "      aux = new_points[0] * t \n",
        "      new_points[0] = new_points[0] + aux\n",
        "      return_value = \"Shear\", Polygon(new_points)\n",
        "    else:\n",
        "      return None, None\n",
        "    return return_value\n",
        "\n",
        "print()\n",
        "t = Triangle(np.array([(1,1),(5,5), (9,1)]))\n",
        "t.plot(fig, 320)\n",
        "t.plot(fig, 321, 'translate 5 10')\n",
        "t.plot(fig, 322, 'scale 2 3')\n",
        "t.plot(fig, 323, 'rotate 90')\n",
        "t.plot(fig, 324, 'reflect')\n",
        "t.plot(fig, 325, 'shear 2 3')\n",
        "\n"
      ],
      "execution_count": null,
      "outputs": []
    },
    {
      "cell_type": "markdown",
      "metadata": {
        "id": "fJfMakoUZRsI"
      },
      "source": [
        "##E2. Dummy Preprocessing\n",
        "In this exercise you should implement a class that exposes the methods below. For testing you should call the methods in the same order.\n",
        "\n",
        "\n",
        "*   **tokenizeString** - given a document, tokenization is the task of splitting the sequence of characters in tokens. This task is concentrated into grouping words that have the same conceptually meaning in tokens. (e.g Los Angeles, O'Neil). For the sake of the excercise you will have to split only by whitespace.\n",
        "*  **removePunctation** - remove any symbol that appears in the following set: [!”#$%&’()*+,-./:;<=>?@[\\]^_`{|}~]\n",
        "*   **dummyStemming** - is the process of removing words' inflection forms, prefixes, suffixes or infixes in order to bring the word to its root form. One example of stemming is Porter Stemmer and because it is a complex set of rules, you will have to implement only step 1a following the next rules (answer the question: why do you need the third rule **SS->SS**?):\n",
        "Step 1a\n",
        "\n",
        "Rule|Example\n",
        ":---|---:\n",
        "SSES->SS|caresses->caress\n",
        "IES->I|ponies->poni\n",
        "SS->SS|caress->caress\n",
        "S->|cats->cat\n",
        "\n",
        "*   **removeStopWords** - this method is used in order to filter a sentence. Stopwords are unecessary words that even if they are removed do not change the meaning of a sentence. This method is used because we need to speed up the process and not carry unmeaningful information.\n",
        "Example:\n",
        "\n",
        "```\n",
        "[‘The’, ‘quick’, ‘brown’, ‘fox’, ‘jumps’, ‘over’, ‘the’, ‘lazy’, ‘dog’]\n",
        "[‘The’, ‘quick’, ‘brown’, ‘fox’, ‘jumps’, ‘lazy’, ‘dog’]\n",
        "\n",
        "stopwords = {‘ourselves’, ‘hers’, ‘between’, ‘yourself’, ‘but’, ‘again’, ‘there’, ‘about’, ‘once’, ‘during’, ‘out’, ‘very’, ‘having’, ‘with’, ‘they’, ‘own’, ‘an’, ‘be’, ‘some’, ‘for’, ‘do’, ‘its’, ‘yours’, ‘such’, ‘into’, ‘of’, ‘most’, ‘itself’, ‘other’, ‘off’, ‘is’, ‘s’, ‘am’, ‘or’, ‘who’, ‘as’, ‘from’, ‘him’, ‘each’, ‘the’, ‘themselves’, ‘until’, ‘below’, ‘are’, ‘we’, ‘these’, ‘your’, ‘his’, ‘through’, ‘don’, ‘nor’, ‘me’, ‘were’, ‘her’, ‘more’, ‘himself’, ‘this’, ‘down’, ‘should’, ‘our’, ‘their’, ‘while’, ‘above’, ‘both’, ‘up’, ‘to’, ‘ours’, ‘had’, ‘she’, ‘all’, ‘no’, ‘when’, ‘at’, ‘any’, ‘before’, ‘them’, ‘same’, ‘and’, ‘been’, ‘have’, ‘in’, ‘will’, ‘on’, ‘does’, ‘yourselves’, ‘then’, ‘that’, ‘because’, ‘what’, ‘over’, ‘why’, ‘so’, ‘can’, ‘did’, ‘not’, ‘now’, ‘under’, ‘he’, ‘you’, ‘herself’, ‘has’, ‘just’, ‘where’, ‘too’, ‘only’, ‘myself’, ‘which’, ‘those’, ‘i’, ‘after’, ‘few’, ‘whom’, ‘t’, ‘being’, ‘if’, ‘theirs’, ‘my’, ‘against’, ‘a’, ‘by’, ‘doing’, ‘it’, ‘how’, ‘further’, ‘was’, ‘here’, ‘than’}\n",
        "```\n"
      ]
    },
    {
      "cell_type": "code",
      "metadata": {
        "id": "7PIIYXptbNDy"
      },
      "source": [
        "import string as p\n",
        "class Preprocessing():\n",
        "\n",
        "  def __init__(self, string):\n",
        "    self.string = string\n",
        "    self.tokens = None\n",
        "    \n",
        "  def removePunctuation(self):\n",
        "    #remove any non-alphanumeric characters in string\n",
        "    translator = self.string.maketrans('', '', p.punctuation)\n",
        "    return self.string.translate(translator)\n",
        "    \n",
        "  def tokenizeStrings(self):\n",
        "    #split strings in tokens\n",
        "    self.tokens = self.string.split(' ')\n",
        "    return self.tokens\n",
        "\n",
        "  def dummyStemming(self):\n",
        "    #apply stemming on tokens\n",
        "    word = 'caresses'\n",
        "    suffix = ['sses', 'ies', 'ss', 's']\n",
        "    res = ['ss', 'i', 'ss', '']\n",
        "    for i in range(len(suffix)):\n",
        "      if suffix[i] in word:\n",
        "        word = word.replace(suffix[i], res[i])\n",
        "        break\n",
        "    return word\n",
        "  \n",
        "  def removeStopWords(self):\n",
        "    #remove stop words from tokens\n",
        "    pass\n",
        "  \n",
        "  def retrievePreprocessedString():\n",
        "    #return the final preprocessed string\n",
        "    pass\n",
        "   \n",
        "    \n",
        "t = Preprocessing(\"My, name, is Jeff!\")\n",
        "#t.tokenizeStrings()\n",
        "t.removePunctuation()\n",
        "t.dummyStemming()"
      ],
      "execution_count": null,
      "outputs": []
    },
    {
      "cell_type": "markdown",
      "metadata": {
        "id": "t0Be1TuXP9EF"
      },
      "source": [
        "##E3. Boston Houses\n",
        "\n",
        "###Data description\n",
        "The Boston data frame has 506 rows and 14 columns and consists of price of houses in various places in Boston. \n",
        "\n",
        "This data frame contains the following columns:\n",
        "\n",
        "Column Name|Column Representation\n",
        "---|---\n",
        "crim|per capita crime rate by town.\n",
        "zn|proportion of residential land zoned for lots over 25,000 sq.ft.\n",
        "indus|proportion of non-retail business acres per town.\n",
        "chas|Charles River dummy variable (= 1 if tract bounds river; 0 otherwise).\n",
        "nox|nitrogen oxides concentration (parts per 10 million).\n",
        "rm|average number of rooms per dwelling.\n",
        "age|proportion of owner-occupied units built prior to 1940.\n",
        "dis|weighted mean of distances to five Boston employment centres.\n",
        "rad|index of accessibility to radial highways.\n",
        "tax|full-value property-tax rate per \\$10,000.\n",
        "ptratio|pupil-teacher ratio by town.\n",
        "black|1000(Bk - 0.63)^2 where Bk is the proportion of blacks by town.\n",
        "lstat|lower status of the population (percent).\n",
        "medv|median value of owner-occupied homes in $1000s.\n",
        "\n",
        "###Tasks\n",
        "\n",
        "\n",
        "1.   plot one graphic for each highly correlated feature with the price of the house\n",
        "2.   plot also a graphic for **CRIM** feature\n",
        "3.   aggregrate data using [**df.agg**](https://pandas.pydata.org/pandas-docs/stable/reference/api/pandas.DataFrame.aggregate.html) function for min, max, mean and std"
      ]
    },
    {
      "cell_type": "code",
      "metadata": {
        "id": "5Nv-cWoPZB9n"
      },
      "source": [
        "from sklearn.datasets import load_boston\n",
        "from tabulate import tabulate\n",
        "import matplotlib.pyplot as plt\n",
        "import pandas as pd\n",
        "from IPython.display import display, HTML\n",
        "\n",
        "dataset = load_boston()\n",
        "\n",
        "print(dataset.keys(), '\\n')\n",
        "print(dataset.feature_names)\n",
        "print(dataset.data.shape)\n",
        "\n",
        "boston_df = pd.DataFrame(dataset.data)\n",
        "boston_df.columns = dataset.feature_names\n",
        "#add also the target column medv\n",
        "boston_df['PRICE'] = dataset.target\n",
        "display(HTML(boston_df.head().to_html()))\n"
      ],
      "execution_count": null,
      "outputs": []
    },
    {
      "cell_type": "markdown",
      "metadata": {
        "id": "g7ZsgRzah7DR"
      },
      "source": [
        "Correlation matrix is used in advanced analysis of a dataset. This matrix has size NxN and represents the corelation coefficient of N vectors. The intuition behind this coefficient is that it captures a degree of co-variation between two values. For example, if \"[cigarette smoking is linked to about 80% to 90% of lung cancer deaths](https://www.cdc.gov/cancer/lung/basic_info/risk_factors.htm)\", then one can say smoking and lung cancer deaths are highly correlated. Below, you can see the correlation between Boston Dataset's features.\n",
        "\n",
        "\n",
        "*   **+1** - higly correlated\n",
        "*   **-1** - not correlated at all\n",
        "\n"
      ]
    },
    {
      "cell_type": "code",
      "metadata": {
        "id": "6LGlGwR5ZXWM"
      },
      "source": [
        "#print correlation matrix\n",
        "#seaborn is another visualization library based on matplotlib\n",
        "import seaborn as sns\n",
        "import matplotlib.pyplot as plt \n",
        "\n",
        "correlation_matrix = boston_df.corr().round(2)\n",
        "# annot = True to print the values inside the square\n",
        "plt.figure(figsize=(14, 14))\n",
        "sns.heatmap(data=correlation_matrix, annot=True)\n",
        "plt.show()"
      ],
      "execution_count": null,
      "outputs": []
    },
    {
      "cell_type": "code",
      "metadata": {
        "id": "ckmab16oxgwu"
      },
      "source": [
        "#here is an example of plotting a scatter graphic for CRIM and PRICE\n",
        "rm_df = pd.DataFrame(boston_df, columns=['RM', 'PRICE'])\n",
        "rm_df.plot(x='RM', y='PRICE', kind='scatter')\n",
        "plt.show()"
      ],
      "execution_count": null,
      "outputs": []
    },
    {
      "cell_type": "code",
      "metadata": {
        "id": "epquLTggyeii"
      },
      "source": [
        "#print min, max, mean and std for each column in dataset"
      ],
      "execution_count": null,
      "outputs": []
    }
  ]
}